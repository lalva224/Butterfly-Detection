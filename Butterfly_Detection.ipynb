{
  "cells": [
    {
      "cell_type": "markdown",
      "metadata": {
        "id": "view-in-github",
        "colab_type": "text"
      },
      "source": [
        "<a href=\"https://colab.research.google.com/github/lalva224/Butterfly-Detection/blob/main/Butterfly_Detection.ipynb\" target=\"_parent\"><img src=\"https://colab.research.google.com/assets/colab-badge.svg\" alt=\"Open In Colab\"/></a>"
      ]
    },
    {
      "cell_type": "code",
      "execution_count": 10,
      "metadata": {
        "colab": {
          "base_uri": "https://localhost:8080/"
        },
        "collapsed": true,
        "id": "ebF2b_JsqDZ-",
        "outputId": "52c356a2-3c68-4be8-e7f7-e821d44866e5"
      },
      "outputs": [
        {
          "output_type": "stream",
          "name": "stdout",
          "text": [
            "Requirement already satisfied: roboflow in /usr/local/lib/python3.11/dist-packages (1.1.57)\n",
            "Requirement already satisfied: jsonlines in /usr/local/lib/python3.11/dist-packages (4.0.0)\n",
            "Collecting groq\n",
            "  Downloading groq-0.19.0-py3-none-any.whl.metadata (15 kB)\n",
            "Requirement already satisfied: certifi in /usr/local/lib/python3.11/dist-packages (from roboflow) (2025.1.31)\n",
            "Requirement already satisfied: idna==3.7 in /usr/local/lib/python3.11/dist-packages (from roboflow) (3.7)\n",
            "Requirement already satisfied: cycler in /usr/local/lib/python3.11/dist-packages (from roboflow) (0.12.1)\n",
            "Requirement already satisfied: kiwisolver>=1.3.1 in /usr/local/lib/python3.11/dist-packages (from roboflow) (1.4.8)\n",
            "Requirement already satisfied: matplotlib in /usr/local/lib/python3.11/dist-packages (from roboflow) (3.10.0)\n",
            "Requirement already satisfied: numpy>=1.18.5 in /usr/local/lib/python3.11/dist-packages (from roboflow) (1.26.4)\n",
            "Requirement already satisfied: opencv-python-headless==4.10.0.84 in /usr/local/lib/python3.11/dist-packages (from roboflow) (4.10.0.84)\n",
            "Requirement already satisfied: Pillow>=7.1.2 in /usr/local/lib/python3.11/dist-packages (from roboflow) (11.1.0)\n",
            "Requirement already satisfied: python-dateutil in /usr/local/lib/python3.11/dist-packages (from roboflow) (2.8.2)\n",
            "Requirement already satisfied: python-dotenv in /usr/local/lib/python3.11/dist-packages (from roboflow) (1.0.1)\n",
            "Requirement already satisfied: requests in /usr/local/lib/python3.11/dist-packages (from roboflow) (2.32.3)\n",
            "Requirement already satisfied: six in /usr/local/lib/python3.11/dist-packages (from roboflow) (1.17.0)\n",
            "Requirement already satisfied: urllib3>=1.26.6 in /usr/local/lib/python3.11/dist-packages (from roboflow) (2.3.0)\n",
            "Requirement already satisfied: tqdm>=4.41.0 in /usr/local/lib/python3.11/dist-packages (from roboflow) (4.67.1)\n",
            "Requirement already satisfied: PyYAML>=5.3.1 in /usr/local/lib/python3.11/dist-packages (from roboflow) (6.0.2)\n",
            "Requirement already satisfied: requests-toolbelt in /usr/local/lib/python3.11/dist-packages (from roboflow) (1.0.0)\n",
            "Requirement already satisfied: filetype in /usr/local/lib/python3.11/dist-packages (from roboflow) (1.2.0)\n",
            "Requirement already satisfied: attrs>=19.2.0 in /usr/local/lib/python3.11/dist-packages (from jsonlines) (25.1.0)\n",
            "Requirement already satisfied: anyio<5,>=3.5.0 in /usr/local/lib/python3.11/dist-packages (from groq) (3.7.1)\n",
            "Requirement already satisfied: distro<2,>=1.7.0 in /usr/local/lib/python3.11/dist-packages (from groq) (1.9.0)\n",
            "Requirement already satisfied: httpx<1,>=0.23.0 in /usr/local/lib/python3.11/dist-packages (from groq) (0.28.1)\n",
            "Requirement already satisfied: pydantic<3,>=1.9.0 in /usr/local/lib/python3.11/dist-packages (from groq) (2.10.6)\n",
            "Requirement already satisfied: sniffio in /usr/local/lib/python3.11/dist-packages (from groq) (1.3.1)\n",
            "Requirement already satisfied: typing-extensions<5,>=4.10 in /usr/local/lib/python3.11/dist-packages (from groq) (4.12.2)\n",
            "Requirement already satisfied: httpcore==1.* in /usr/local/lib/python3.11/dist-packages (from httpx<1,>=0.23.0->groq) (1.0.7)\n",
            "Requirement already satisfied: h11<0.15,>=0.13 in /usr/local/lib/python3.11/dist-packages (from httpcore==1.*->httpx<1,>=0.23.0->groq) (0.14.0)\n",
            "Requirement already satisfied: annotated-types>=0.6.0 in /usr/local/lib/python3.11/dist-packages (from pydantic<3,>=1.9.0->groq) (0.7.0)\n",
            "Requirement already satisfied: pydantic-core==2.27.2 in /usr/local/lib/python3.11/dist-packages (from pydantic<3,>=1.9.0->groq) (2.27.2)\n",
            "Requirement already satisfied: contourpy>=1.0.1 in /usr/local/lib/python3.11/dist-packages (from matplotlib->roboflow) (1.3.1)\n",
            "Requirement already satisfied: fonttools>=4.22.0 in /usr/local/lib/python3.11/dist-packages (from matplotlib->roboflow) (4.56.0)\n",
            "Requirement already satisfied: packaging>=20.0 in /usr/local/lib/python3.11/dist-packages (from matplotlib->roboflow) (24.2)\n",
            "Requirement already satisfied: pyparsing>=2.3.1 in /usr/local/lib/python3.11/dist-packages (from matplotlib->roboflow) (3.2.1)\n",
            "Requirement already satisfied: charset-normalizer<4,>=2 in /usr/local/lib/python3.11/dist-packages (from requests->roboflow) (3.4.1)\n",
            "Downloading groq-0.19.0-py3-none-any.whl (122 kB)\n",
            "\u001b[2K   \u001b[90m━━━━━━━━━━━━━━━━━━━━━━━━━━━━━━━━━━━━━━━━\u001b[0m \u001b[32m122.2/122.2 kB\u001b[0m \u001b[31m2.6 MB/s\u001b[0m eta \u001b[36m0:00:00\u001b[0m\n",
            "\u001b[?25hInstalling collected packages: groq\n",
            "Successfully installed groq-0.19.0\n"
          ]
        }
      ],
      "source": [
        "!pip install roboflow jsonlines groq"
      ]
    },
    {
      "cell_type": "code",
      "execution_count": 2,
      "metadata": {
        "collapsed": true,
        "id": "L41X-y857J33"
      },
      "outputs": [],
      "source": [
        "import os\n",
        "import shutil\n",
        "import pandas as pd\n",
        "from roboflow import Roboflow\n",
        "from google.colab import userdata\n",
        "from google.colab import drive\n",
        "\n"
      ]
    },
    {
      "cell_type": "code",
      "execution_count": 3,
      "metadata": {
        "collapsed": true,
        "id": "l7VheHYge2UM"
      },
      "outputs": [],
      "source": [
        "# connect your roboflow api\n",
        "rf = Roboflow(userdata.get('ROBOFLOW_API_KEY'))\n"
      ]
    },
    {
      "cell_type": "code",
      "source": [
        "# connect drive storage inside the google colab session\n",
        "drive.mount('/content/drive', force_remount=True)"
      ],
      "metadata": {
        "colab": {
          "base_uri": "https://localhost:8080/"
        },
        "id": "QgA26Y7I-O2u",
        "outputId": "a31db1ef-6d1e-4ff2-bc89-691faf863c15"
      },
      "execution_count": 4,
      "outputs": [
        {
          "output_type": "stream",
          "name": "stdout",
          "text": [
            "Mounted at /content/drive\n"
          ]
        }
      ]
    },
    {
      "cell_type": "code",
      "source": [
        "#ONLY FOR UPLOADING NEW PROJECTS\n",
        "# paste roboflow download code here\n",
        "\n"
      ],
      "metadata": {
        "id": "Ov2LkdpQxi6b",
        "colab": {
          "base_uri": "https://localhost:8080/"
        },
        "outputId": "e08ba483-ecf4-462d-bdca-d23c3859e550"
      },
      "execution_count": null,
      "outputs": [
        {
          "output_type": "stream",
          "name": "stdout",
          "text": [
            "loading Roboflow workspace...\n",
            "loading Roboflow project...\n",
            "loading Roboflow workspace...\n",
            "loading Roboflow project...\n"
          ]
        }
      ]
    },
    {
      "cell_type": "code",
      "execution_count": null,
      "metadata": {
        "id": "Uc0dSrJTpg6E"
      },
      "outputs": [],
      "source": [
        "#ONLY FOR UPLOADING NEW PROJECTS\n",
        "#this will get directories inside current session. This will be used to then move inside the drive storage permanently below\n",
        "def get_butterfly_directories_for_drive_upload():\n",
        "  directories = []\n",
        "  exclude = {'sample_data','drive','.config'}\n",
        "  for folder in os.listdir('/content/'):\n",
        "    if folder not in exclude:\n",
        "      directories.append(f'/content/{folder}')\n",
        "  return directories\n",
        "\n",
        "butterfly_directories = get_butterfly_directories_for_drive_upload()\n",
        "\n",
        "\n",
        "\n"
      ]
    },
    {
      "cell_type": "code",
      "source": [
        "butterfly_directories"
      ],
      "metadata": {
        "colab": {
          "base_uri": "https://localhost:8080/"
        },
        "id": "2vHYr4Jj1fw7",
        "outputId": "b2f8efcd-8115-4478-cfd0-b7e513c7f071"
      },
      "execution_count": null,
      "outputs": [
        {
          "output_type": "execute_result",
          "data": {
            "text/plain": [
              "['/content/kupu2-dan-ngengat-klasifikasi-2',\n",
              " '/content/Butterfly-12',\n",
              " '/content/butterfly-1']"
            ]
          },
          "metadata": {},
          "execution_count": 58
        }
      ]
    },
    {
      "cell_type": "code",
      "source": [
        "##ONLY FOR UPLOADING NEW PROJECTS\n",
        "#use only for uploading folder in cwd to drive\n",
        "import os\n",
        "\n",
        "# training dataset folder\n",
        "SHARED_FOLDER_PATH = \"/content/drive/MyDrive/Butterfly-Datasets\"\n",
        "\n",
        "# move datasets to google drive\n",
        "def move_to_drive(dataset_path, destination_folder):\n",
        "    destination_path = os.path.join(destination_folder, os.path.basename(dataset_path))\n",
        "    if os.path.exists(destination_path):\n",
        "        print(f\"Dataset {os.path.basename(dataset_path)} already exists in the destination folder. Skipping move.\")\n",
        "    else:\n",
        "        shutil.move(dataset_path, destination_folder)\n",
        "        print(f\"Moved dataset from {dataset_path} to {destination_folder}\")\n",
        "\n",
        "for dataset in butterfly_directories:\n",
        "    move_to_drive(dataset, SHARED_FOLDER_PATH)\n"
      ],
      "metadata": {
        "colab": {
          "base_uri": "https://localhost:8080/"
        },
        "id": "ikqmviuL0lF6",
        "outputId": "23539365-89a7-46a2-92e7-7f60790ec401"
      },
      "execution_count": null,
      "outputs": [
        {
          "output_type": "stream",
          "name": "stdout",
          "text": [
            "Dataset kupu2-dan-ngengat-klasifikasi-2 already exists in the destination folder. Skipping move.\n",
            "Dataset Butterfly-12 already exists in the destination folder. Skipping move.\n",
            "Dataset butterfly-1 already exists in the destination folder. Skipping move.\n"
          ]
        }
      ]
    },
    {
      "cell_type": "code",
      "source": [
        "# when not uploading to drive, use this function to get the butterfly directories inside drive, to be used for getting the butterfly names\n",
        "\n",
        "def get_butterfly_directories_inside_drive():\n",
        "  directories = []\n",
        "  exclude = {'sample_data','drive','.config'}\n",
        "  for folder in os.listdir('/content/drive/MyDrive/Butterfly-Datasets'):\n",
        "    if folder not in exclude:\n",
        "      directories.append(f'/content/drive/MyDrive/Butterfly-Datasets/{folder}')\n",
        "  return directories\n",
        "\n",
        "butterfly_directories = get_butterfly_directories_inside_drive()\n",
        "butterfly_directories"
      ],
      "metadata": {
        "colab": {
          "base_uri": "https://localhost:8080/"
        },
        "id": "2fvROU2w2P8N",
        "outputId": "827f3d80-6fb2-4048-81f1-e01c06c3046a"
      },
      "execution_count": 5,
      "outputs": [
        {
          "output_type": "execute_result",
          "data": {
            "text/plain": [
              "['/content/drive/MyDrive/Butterfly-Datasets/classify_butterfly_and_moth-3',\n",
              " '/content/drive/MyDrive/Butterfly-Datasets/butterfly-1',\n",
              " '/content/drive/MyDrive/Butterfly-Datasets/Butterfly--2',\n",
              " '/content/drive/MyDrive/Butterfly-Datasets/butterflies-2',\n",
              " '/content/drive/MyDrive/Butterfly-Datasets/detecton-Butterfly-1',\n",
              " '/content/drive/MyDrive/Butterfly-Datasets/CV-2',\n",
              " '/content/drive/MyDrive/Butterfly-Datasets/PDI-PROYECTO-1',\n",
              " '/content/drive/MyDrive/Butterfly-Datasets/butterfly-class-1',\n",
              " '/content/drive/MyDrive/Butterfly-Datasets/yolov-Butterfly-2',\n",
              " '/content/drive/MyDrive/Butterfly-Datasets/Butterfly-12',\n",
              " '/content/drive/MyDrive/Butterfly-Datasets/kupu2-dan-ngengat-klasifikasi-2',\n",
              " '/content/drive/MyDrive/Butterfly-Datasets/Butterfly-dt2-2',\n",
              " '/content/drive/MyDrive/Butterfly-Datasets/.ipynb_checkpoints']"
            ]
          },
          "metadata": {},
          "execution_count": 5
        }
      ]
    },
    {
      "cell_type": "code",
      "execution_count": 9,
      "metadata": {
        "id": "c2t4XJWEfpXL",
        "colab": {
          "base_uri": "https://localhost:8080/"
        },
        "outputId": "bb0da141-8d05-4c1c-b851-6bb348db02d3"
      },
      "outputs": [
        {
          "output_type": "execute_result",
          "data": {
            "text/plain": [
              "{'88 AN',\n",
              " '88 BANDED GOLD',\n",
              " 'ADMIRAL RED',\n",
              " 'ADONIS',\n",
              " 'AFRICAN GIANT SWALLOWTAIL',\n",
              " 'AMERICAN SNOOT',\n",
              " 'AN 88',\n",
              " 'APPOLLO',\n",
              " 'ARCIGERA FLOWER MOTH',\n",
              " 'ARGUS BROWN',\n",
              " 'ATALA',\n",
              " 'ATLAS MOTH',\n",
              " 'AWL BANDED COMMON',\n",
              " 'American-Copper',\n",
              " 'BANDED GOLD',\n",
              " 'BANDED HELICONIAN ORANGE',\n",
              " 'BANDED MOTH TIGER',\n",
              " 'BANDED ORANGE HELICONIAN',\n",
              " 'BANDED PEACOCK',\n",
              " 'BANDED TIGER MOTH',\n",
              " 'BARRED FLASHER TWO',\n",
              " 'BECKERS WHITE',\n",
              " 'BIRD CHERRY ERMINE MOTH',\n",
              " 'BIRD HAWK HUMMING MOTH',\n",
              " 'BIRDWING BROOKES',\n",
              " 'BIRDWING CAIRNS',\n",
              " 'BLACK HAIRSTREAK',\n",
              " 'BLUE CHALK HILL',\n",
              " 'BLUE CROW SPOTTED',\n",
              " 'BLUE MORPHO',\n",
              " 'BLUE SPOTTED CROW',\n",
              " 'BROOKES BIRDWING',\n",
              " 'BROWN ARGUS',\n",
              " 'BROWN SIPROETA',\n",
              " 'BURNET MOTH SIXSPOT',\n",
              " 'Blue Mormon',\n",
              " 'CABBAGE WHITE',\n",
              " 'CAIRNS BIRDWING',\n",
              " 'CATTLEHEART CELLED GREEN',\n",
              " 'CHALK HILL BLUE',\n",
              " 'CHECQUERED SKIPPER',\n",
              " 'CHESTNUT',\n",
              " 'CINNABAR MOTH',\n",
              " 'CLEARWING MOTH',\n",
              " 'CLEOPATRA',\n",
              " 'CLOAK MOURNING',\n",
              " 'CLODIUS PARNASSIAN',\n",
              " 'CLOUDED SULPHUR',\n",
              " 'COMA EASTERN',\n",
              " 'COMET MOTH',\n",
              " 'COMMON BANDED AWL',\n",
              " 'COMMON WOOD-NYMPH',\n",
              " 'COPPER PURPLISH',\n",
              " 'COPPER TAIL',\n",
              " 'CRACKER RED',\n",
              " 'CRECENT',\n",
              " 'CRIMSON PATCH',\n",
              " 'Cabbage-White',\n",
              " 'Common Banded Peacock',\n",
              " 'Common Mime',\n",
              " 'Common Mormon',\n",
              " 'Common Rose',\n",
              " 'Common-Buckeye',\n",
              " 'Crimson-patched-Longwing',\n",
              " 'DANAID EGGFLY',\n",
              " 'DAPPLE EASTERN WHITE',\n",
              " 'DOGFACE SOUTHERN',\n",
              " 'EASTERN COMA',\n",
              " 'EASTERN DAPPLE WHITE',\n",
              " 'EASTERN ELFIN PINE',\n",
              " 'EASTERN PINE ELFIN',\n",
              " 'EGGFLY GREAT',\n",
              " 'ELBOWED PIERROT',\n",
              " 'EMPEROR GUM MOTH',\n",
              " 'Five-bar Swordtail',\n",
              " 'GARDEN MOTH TIGER',\n",
              " 'GARDEN TIGER MOTH',\n",
              " 'GIANT LEOPARD MOTH',\n",
              " 'GLITTERING SAPPHIRE',\n",
              " 'GOLD BANDED',\n",
              " 'GREAT EGGFLY',\n",
              " 'GREAT JAY',\n",
              " 'GREEN CELLED CATTLEHEART',\n",
              " 'GREEN HAIRSTREAK',\n",
              " 'GREY HAIRSTREAK',\n",
              " 'Giant-Swallowtail',\n",
              " 'HAIRSTREAK PURPLE',\n",
              " 'HAWK MOTH OLEANDER',\n",
              " 'HERCULES MOTH',\n",
              " 'HUMMING BIRD HAWK MOTH',\n",
              " 'INDRA SWALLOW',\n",
              " 'IO MOTH',\n",
              " 'Iphiclus sister',\n",
              " 'JULIA',\n",
              " 'KITE PAPER',\n",
              " 'LADY PAINTED',\n",
              " 'LARGE MARBLE',\n",
              " 'LEAFWING TROPICAL',\n",
              " 'LINED MOTH SPHINX WHITE',\n",
              " 'LONG WING ZEBRA',\n",
              " 'LUNA MOTH',\n",
              " 'Lime Butterfly',\n",
              " 'MADAGASCAN MOTH SUNSET',\n",
              " 'MADAGASCAN SUNSET MOTH',\n",
              " 'MALACHITE',\n",
              " 'MANGROVE SKIPPER',\n",
              " 'MAPLE MOTH ROSY',\n",
              " 'MARK QUESTION',\n",
              " 'MESTRA',\n",
              " 'METALMARK',\n",
              " 'MILBERTS TORTOISESHELL',\n",
              " 'MONARCH',\n",
              " 'MOTH POLYPHEMUS',\n",
              " 'MOURNING CLOAK',\n",
              " 'Malabar Banded Peacock',\n",
              " 'Malabar Banded Swallowtail',\n",
              " 'Malabar Raven',\n",
              " 'Malabar Rose',\n",
              " 'Mourning-Cloak',\n",
              " 'OAKLEAF ORANGE',\n",
              " 'OLEANDER HAWK MOTH',\n",
              " 'ORANGE OAKLEAF',\n",
              " 'ORANGE SLEEPY',\n",
              " 'ORANGE TIP',\n",
              " 'ORCHARD SWALLOW',\n",
              " 'PAINTED LADY',\n",
              " 'PAPER KITE',\n",
              " 'PEACOCK',\n",
              " 'PINE WHITE',\n",
              " 'PIPEVINE SWALLOW',\n",
              " 'POLYPHEMUS MOTH',\n",
              " 'POPINJAY',\n",
              " 'POSTMAN RED',\n",
              " 'PURPLE HAIRSTREAK',\n",
              " 'PURPLE RED SPOTTED',\n",
              " 'PURPLISH COPPER',\n",
              " 'Painted-Lady',\n",
              " 'QUEEN STRAITED',\n",
              " 'QUESTION MARK',\n",
              " 'RED ADMIRAL',\n",
              " 'RED CRACKER',\n",
              " 'RED POSTMAN',\n",
              " 'RED SPOTTED PURPLE',\n",
              " 'ROSY MAPLE MOTH',\n",
              " 'Red Helen',\n",
              " 'Red-Admiral',\n",
              " 'SATYR WOOD',\n",
              " 'SCARCE SWALLOW',\n",
              " 'SILVER SKIPPER SPOT',\n",
              " 'SILVER SPOT SKIPPER',\n",
              " 'SIXSPOT BURNET MOTH',\n",
              " 'SLEEPY ORANGE',\n",
              " 'SOOTYWING',\n",
              " 'SOUTHERN DOGFACE',\n",
              " 'STRAITED QUEEN',\n",
              " 'SWALLOW TAIL YELLOW',\n",
              " 'Southern Birdwing',\n",
              " 'Southern Bluebottle',\n",
              " 'Spot Swordtail',\n",
              " 'TROPICAL LEAFWING',\n",
              " 'TWO BARRED FLASHER',\n",
              " 'Tailed Jay',\n",
              " 'ULYSES',\n",
              " 'VICEROY',\n",
              " 'WHITE LINED SPHINX MOTH',\n",
              " 'WOOD SATYR',\n",
              " 'YELLOW SWALLOW TAIL',\n",
              " 'ZEBRA LONG WING',\n",
              " 'Zebra-Longwing',\n",
              " '_annotations.createml.json',\n",
              " 'monarch'}"
            ]
          },
          "metadata": {},
          "execution_count": 9
        }
      ],
      "source": [
        "# combine datasets\n",
        "import jsonlines\n",
        "def get_butterflies():\n",
        "  butterflies = []\n",
        "  exclude = {'.ipynb_checkpoints'}\n",
        "  for folder in butterfly_directories:\n",
        "    if folder not in exclude:\n",
        "      if os.path.isdir(f'{folder}/train'):\n",
        "        directories = []\n",
        "        for directory in os.listdir(f'{folder}/train'):\n",
        "          if '.jpg' in directory:\n",
        "            directories.append(directory.split('--')[0])\n",
        "          else:\n",
        "            directories.append(directory)\n",
        "        butterflies.extend(directories)\n",
        "    else:\n",
        "      with jsonlines.open(f'{folder}/_annotations.train.jsonl','r') as file:\n",
        "        data =  [obj['messages'][3]['content'].split(' ')[-1] for obj in file]\n",
        "      butterflies.extend(data)\n",
        "  return butterflies\n",
        "\n",
        "\n",
        "butterflies = set(get_butterflies())\n",
        "\n",
        "butterflies"
      ]
    },
    {
      "cell_type": "code",
      "source": [
        "#use LLM to improve the make the labeling the same\n",
        "from groq import Groq\n",
        "import json\n",
        "client = Groq(api_key=userdata.get('GROQ_API_KEY'))\n",
        "\n",
        "system_prompt = f\"\"\"\n",
        "Here is a list of butterflies: {butterflies}\n",
        "They are not normalized under the same format, for instance some are capitlized like : ZEBRA LONG WING and some have hyphens like Zebra-Longwing. What is required is a lower case non hyphen format\n",
        "Like this:  tailed jay\n",
        "\n",
        "Your response must be json under this format:\n",
        "{{\n",
        "  'butterflies': []\n",
        "}}\n",
        "\"\"\"\n",
        "completion = client.chat.completions.create(\n",
        "    model = \"llama-3.3-70b-versatile\",\n",
        "    messages = [{\"role\":\"system\",\"content\":system_prompt}],\n",
        "    response_format = {\"type\":\"json_object\"}\n",
        ")\n"
      ],
      "metadata": {
        "id": "wV__ADz0rZ5c"
      },
      "execution_count": 21,
      "outputs": []
    },
    {
      "cell_type": "code",
      "source": [
        "butterflies = set(json.loads(completion.choices[0].message.content)['butterflies'])\n",
        "butterflies"
      ],
      "metadata": {
        "colab": {
          "base_uri": "https://localhost:8080/"
        },
        "collapsed": true,
        "id": "eBPOTNVWxP6q",
        "outputId": "c94c0796-7170-4f5b-87c6-a93312e75ec7"
      },
      "execution_count": 30,
      "outputs": [
        {
          "output_type": "execute_result",
          "data": {
            "text/plain": [
              "{'admiral red',\n",
              " 'adonis',\n",
              " 'african giant swallowtail',\n",
              " 'american copper',\n",
              " 'american snoot',\n",
              " 'appollo',\n",
              " 'arcigera flower moth',\n",
              " 'argus brown',\n",
              " 'atala',\n",
              " 'atlas moth',\n",
              " 'awl banded common',\n",
              " 'banded gold',\n",
              " 'banded heliconian orange',\n",
              " 'banded moth tiger',\n",
              " 'banded orange heliconian',\n",
              " 'banded peacock',\n",
              " 'banded tiger moth',\n",
              " 'barred flasher two',\n",
              " 'beckers white',\n",
              " 'bird cherry ermine moth',\n",
              " 'bird hawk humming moth',\n",
              " 'birdwing brookes',\n",
              " 'birdwing cairns',\n",
              " 'black hairstreak',\n",
              " 'blue chalk hill',\n",
              " 'blue crow spotted',\n",
              " 'blue mormon',\n",
              " 'blue morpho',\n",
              " 'blue spotted crow',\n",
              " 'brookes birdwing',\n",
              " 'brown argus',\n",
              " 'brown siproeta',\n",
              " 'burnet moth sixspot',\n",
              " 'cabbage white',\n",
              " 'cairns birdwing',\n",
              " 'cattleheart celled green',\n",
              " 'chalk hill blue',\n",
              " 'chequered skipper',\n",
              " 'chestnut',\n",
              " 'cinnabar moth',\n",
              " 'cladius parnassian',\n",
              " 'clearwing moth',\n",
              " 'cleopatra',\n",
              " 'clouded sulphur',\n",
              " 'coma eastern',\n",
              " 'comet moth',\n",
              " 'common banded awl',\n",
              " 'common banded peacock',\n",
              " 'common buckeye',\n",
              " 'common mime',\n",
              " 'common mormon',\n",
              " 'common rose',\n",
              " 'common wood nymh',\n",
              " 'copper purplish',\n",
              " 'copper tail',\n",
              " 'cracker red',\n",
              " 'crescent',\n",
              " 'crimson patch',\n",
              " 'crimson patched longwing',\n",
              " 'danaid eggfly',\n",
              " 'dapple eastern white',\n",
              " 'dogface southern',\n",
              " 'eastern coma',\n",
              " 'eastern dapple white',\n",
              " 'eastern elfin pine',\n",
              " 'eastern pine elfin',\n",
              " 'eggfly great',\n",
              " 'elbowed pierrot',\n",
              " 'emperor gum moth',\n",
              " 'five bar swordtail',\n",
              " 'garden moth tiger',\n",
              " 'garden tiger moth',\n",
              " 'giant leopard moth',\n",
              " 'giant swallowtail',\n",
              " 'glittering sapphire',\n",
              " 'gold banded',\n",
              " 'great eggfly',\n",
              " 'great jay',\n",
              " 'green celled cattleheart',\n",
              " 'green hairstreak',\n",
              " 'grey hairstreak',\n",
              " 'hairstreak purple',\n",
              " 'hawk moth oleander',\n",
              " 'hercules moth',\n",
              " 'humming bird hawk moth',\n",
              " 'indra swallow',\n",
              " 'io moth',\n",
              " 'iphiclus sister',\n",
              " 'julia',\n",
              " 'kite paper',\n",
              " 'lady painted',\n",
              " 'large marble',\n",
              " 'leafwing tropical',\n",
              " 'lime butterfly',\n",
              " 'lined moth sphinx white',\n",
              " 'long wing zebra',\n",
              " 'luna moth',\n",
              " 'madagascan moth sunset',\n",
              " 'madagascan sunset moth',\n",
              " 'malabar banded peacock',\n",
              " 'malabar banded swallowtail',\n",
              " 'malabar raven',\n",
              " 'malabar rose',\n",
              " 'malachite',\n",
              " 'mangrove skipper',\n",
              " 'maple moth rosy',\n",
              " 'mark question',\n",
              " 'mestra',\n",
              " 'metalmark',\n",
              " 'milberts tortoiseshell',\n",
              " 'monarch',\n",
              " 'moth polyphemus',\n",
              " 'mourning cloak',\n",
              " 'oakleaf orange',\n",
              " 'oleander hawk moth',\n",
              " 'orange oakleaf',\n",
              " 'orange sleepy',\n",
              " 'orange tip',\n",
              " 'orchard swallow',\n",
              " 'painted lady',\n",
              " 'paper kite',\n",
              " 'peacock',\n",
              " 'pine white',\n",
              " 'pipevine swallow',\n",
              " 'polyphemus moth',\n",
              " 'popinjay',\n",
              " 'postman red',\n",
              " 'purple hairstreak',\n",
              " 'purple red spotted',\n",
              " 'purplish copper',\n",
              " 'queen straited',\n",
              " 'question mark',\n",
              " 'red admiral',\n",
              " 'red cracker',\n",
              " 'red helen',\n",
              " 'red postman',\n",
              " 'red spotted purple',\n",
              " 'rosy maple moth',\n",
              " 'satyr wood',\n",
              " 'scarce swallow',\n",
              " 'silver skipper spot',\n",
              " 'silver spot skipper',\n",
              " 'sixspot burnet moth',\n",
              " 'sleepy orange',\n",
              " 'sootywing',\n",
              " 'southern birdwing',\n",
              " 'southern bluebottle',\n",
              " 'southern dogface',\n",
              " 'spot swordtail',\n",
              " 'straited queen',\n",
              " 'swallow tail yellow',\n",
              " 'tailed jay',\n",
              " 'tropical leafwing',\n",
              " 'two barred flasher',\n",
              " 'ulysses',\n",
              " 'viceroy',\n",
              " 'white lined sphinx moth',\n",
              " 'wood satyr',\n",
              " 'yellow swallow tail',\n",
              " 'zebra long wing',\n",
              " 'zebra longwing'}"
            ]
          },
          "metadata": {},
          "execution_count": 30
        }
      ]
    },
    {
      "cell_type": "code",
      "execution_count": 31,
      "metadata": {
        "id": "FgI4mjY2K8gb"
      },
      "outputs": [],
      "source": [
        "south_fl_butterflies = [\n",
        "    \"Aaron’s Skipper\",\n",
        "    \"American (Painted) Lady\",\n",
        "    \"Amethyst Hairstreak\",\n",
        "    \"Atala\",\n",
        "    \"Bahamian Swallowtail\",\n",
        "    \"Banded Hairstreak\",\n",
        "    \"Barred Yellow (Barred Sulphur)\",\n",
        "    \"Bartram’s Scrub-Hairstreak\",\n",
        "    \"Black Swallowtail\",\n",
        "    \"Brazilian Skipper\",\n",
        "    \"Carolina Satyr\",\n",
        "    \"Cassius Blue\",\n",
        "    \"Ceraunus Blue\",\n",
        "    \"Checkered White\",\n",
        "    \"Clouded Skipper\",\n",
        "    \"Cloudless Sulphur\",\n",
        "    \"Common Buckeye\",\n",
        "    \"Common/White Checkered-Skipper\",\n",
        "    \"Cuban Crescent\",\n",
        "    \"Dainty Sulphur\",\n",
        "    \"Delaware Skipper\",\n",
        "    \"Dingy Purplewing\",\n",
        "    \"Dina Yellow\",\n",
        "    \"Dorantes Longtail\",\n",
        "    \"Eastern Black Swallowtail\",\n",
        "    \"Eastern Pygmy-Blue\",\n",
        "    \"Eastern Tiger Swallowtail\",\n",
        "    \"Eufala Skipper\",\n",
        "    \"Fiery Skipper\",\n",
        "    \"Florida Duskywing\",\n",
        "    \"Florida Leafwing\",\n",
        "    \"Florida Purplewing\",\n",
        "    \"Florida White\",\n",
        "    \"Fulvous Hairstreak\",\n",
        "    \"Georgia Satyr\",\n",
        "    \"Giant Swallowtail\",\n",
        "    \"Gray Hairstreak\",\n",
        "    \"Gray Ministreak\",\n",
        "    \"Great Purple Hairstreak\",\n",
        "    \"Great Southern White\",\n",
        "    \"Gulf Fritillary\",\n",
        "    \"Hackberry Emperor\",\n",
        "    \"Hammock Skipper\",\n",
        "    \"Horace's Duskywing\",\n",
        "    \"Julia\",\n",
        "    \"Julia Heliconian\",\n",
        "    \"Large Orange Sulphur\",\n",
        "    \"Least Skipper\",\n",
        "    \"Little Metalmark\",\n",
        "    \"Little Yellow (Little Sulphur)\",\n",
        "    \"Long-tailed Skipper\",\n",
        "    \"Lyside Sulphur\",\n",
        "    \"Malachite\",\n",
        "    \"Mangrove Buckeye\",\n",
        "    \"Mangrove Skipper\",\n",
        "    \"Martial Scrub-Hairstreak\",\n",
        "    \"Mallow Scrub-Hairstreak\",\n",
        "    \"Mimosa Yellow\",\n",
        "    \"Miami Blue\",\n",
        "    \"Monarch\",\n",
        "    \"Nickerbean Blue\",\n",
        "    \"Ocola Skipper\",\n",
        "    \"Obscure Skipper\",\n",
        "    \"Orange-barred Sulphur\",\n",
        "    \"Palamedes Swallowtail\",\n",
        "    \"Palatka Skipper\",\n",
        "    \"Painted Lady\",\n",
        "    \"Pearl Crescent\",\n",
        "    \"Phaon Crescent\",\n",
        "    \"Pink-spot Sulphur\",\n",
        "    \"Pipevine Swallowtail\",\n",
        "    \"Polydamas Swallowtail\",\n",
        "    \"Queen\",\n",
        "    \"Question Mark\",\n",
        "    \"Ruddy Daggerwing\",\n",
        "    \"Red Admiral\",\n",
        "    \"Red-banded Hairstreak\",\n",
        "    \"Red-spotted Purple\",\n",
        "    \"Sachem\",\n",
        "    \"Salt Marsh Skipper\",\n",
        "    \"Schaus’ Swallowtail\",\n",
        "    \"Silver-banded Hairstreak\",\n",
        "    \"Silver-spotted Skipper\",\n",
        "    \"Sleepy Orange\",\n",
        "    \"Soldier\",\n",
        "    \"Southern Broken-Dash\",\n",
        "    \"Southern Dogface\",\n",
        "    \"Southern Skipperling\",\n",
        "    \"Spicebush Swallowtail\",\n",
        "    \"Statira Sulphur\",\n",
        "    \"Three-spotted Skipper\",\n",
        "    \"Tiger Swallowtail, Eastern\",\n",
        "    \"Tropical Buckeye\",\n",
        "    \"Tropical Checkered-Skipper\",\n",
        "    \"Twin-spot Skipper\",\n",
        "    \"Variegated Fritillary\",\n",
        "    \"Viceroy\",\n",
        "    \"White M Hairstreak\",\n",
        "    \"White Peacock\",\n",
        "    \"Whirlabout\",\n",
        "    \"Zarucco Duskywing\",\n",
        "    \"Zebra (Longwing) Heliconian\",\n",
        "    \"Zebra Heliconian\",\n",
        "    \"Zebra Swallowtail\"\n",
        "]\n",
        "\n",
        "\n",
        "\n",
        "\n",
        "\n",
        "south_fl_butterflies = [butterfly.lower() for butterfly in south_fl_butterflies]\n",
        "butterflies = [butterfly.lower() for butterfly in butterflies]"
      ]
    },
    {
      "cell_type": "code",
      "execution_count": 32,
      "metadata": {
        "id": "Yo3j27P-9Son",
        "colab": {
          "base_uri": "https://localhost:8080/",
          "height": 36
        },
        "outputId": "bdd67d2e-acbb-48ef-82dc-8d67061fb3c4"
      },
      "outputs": [
        {
          "output_type": "execute_result",
          "data": {
            "text/plain": [
              "'13/104'"
            ],
            "application/vnd.google.colaboratory.intrinsic+json": {
              "type": "string"
            }
          },
          "metadata": {},
          "execution_count": 32
        }
      ],
      "source": [
        "# count the percentage of butterflies from the South Florida list\n",
        "total_length = len(south_fl_butterflies)\n",
        "count = 0\n",
        "for butterfly in butterflies:\n",
        "  if butterfly in south_fl_butterflies:\n",
        "    count+=1\n",
        "\n",
        "total = f'{count}/{total_length}'\n",
        "total\n",
        "\n"
      ]
    },
    {
      "cell_type": "code",
      "execution_count": null,
      "metadata": {
        "id": "0uxrLBsi3J6G"
      },
      "outputs": [],
      "source": [
        "\n"
      ]
    }
  ],
  "metadata": {
    "colab": {
      "provenance": [],
      "include_colab_link": true
    },
    "kernelspec": {
      "display_name": "Python 3",
      "name": "python3"
    },
    "language_info": {
      "name": "python"
    }
  },
  "nbformat": 4,
  "nbformat_minor": 0
}